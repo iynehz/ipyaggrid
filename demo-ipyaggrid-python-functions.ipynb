{
 "cells": [
  {
   "cell_type": "markdown",
   "metadata": {},
   "source": [
    "# Managing the grid from python"
   ]
  },
  {
   "cell_type": "markdown",
   "metadata": {},
   "source": [
    "As the grid is completely bi-directional, you can act on the grid from python. Here are some interesting features that have been implemented."
   ]
  },
  {
   "cell_type": "code",
   "execution_count": 1,
   "metadata": {},
   "outputs": [],
   "source": [
    "%load_ext autoreload\n",
    "%autoreload 2"
   ]
  },
  {
   "cell_type": "code",
   "execution_count": 2,
   "metadata": {},
   "outputs": [],
   "source": [
    "import os\n",
    "import json\n",
    "import pandas as pd\n",
    "import numpy as np\n",
    "import urllib.request as ur\n",
    "from copy import deepcopy as copy\n",
    "from ipyaggrid import Grid\n"
   ]
  },
  {
   "cell_type": "code",
   "execution_count": 3,
   "metadata": {},
   "outputs": [],
   "source": [
    "url = 'https://raw.githubusercontent.com/bahamas10/css-color-names/master/css-color-names.json'\n",
    "with ur.urlopen(url) as res:\n",
    "    cnames = json.loads(res.read().decode('utf-8'))\n",
    "\n",
    "colors = []\n",
    "for k in cnames.keys():\n",
    "    colors.append({'color':k, 'value':cnames[k]})\n"
   ]
  },
  {
   "cell_type": "code",
   "execution_count": 4,
   "metadata": {},
   "outputs": [],
   "source": [
    "colors_ref = colors[:]"
   ]
  },
  {
   "cell_type": "markdown",
   "metadata": {},
   "source": [
    "## Exporting data via python"
   ]
  },
  {
   "cell_type": "code",
   "execution_count": 5,
   "metadata": {},
   "outputs": [
    {
     "data": {
      "application/vnd.jupyter.widget-view+json": {
       "model_id": "99823d1ca12e420fba027381050e4ce1",
       "version_major": 2,
       "version_minor": 0
      },
      "text/plain": [
       "Grid(columns_fit='size_to_fit', compress_data=True, css_rules_down=['.color-box{float: left;width: 10px;height…"
      ]
     },
     "metadata": {},
     "output_type": "display_data"
    }
   ],
   "source": [
    "css_rules=\"\"\"\n",
    ".color-box{\n",
    "  float: left;\n",
    "  width: 10px;\n",
    "  height: 10px;\n",
    "  margin: 5px;\n",
    "  border: 1px solid rgba(0, 0, 0, .2);\n",
    "}\n",
    "\"\"\"\n",
    "\n",
    "columnDefs = [\n",
    "    {'headerName': 'Color', 'field':'color', \n",
    "     'pinned': True, 'editable': True},\n",
    "    {'headerName': 'Code', 'field':'value', 'editable': False, 'cellRenderer': \"\"\"\n",
    "        function(params){\n",
    "            return `<div><div style=\"background-color:${params.value}\" class='color-box'></div><span>${params.value}</span></div>`\n",
    "      }\"\"\"}\n",
    "]\n",
    "\n",
    "gridOptions = {'columnDefs':columnDefs,\n",
    "              'enableFilter':'true',\n",
    "              'enableSorting':'true',\n",
    "              'rowSelection':'multiple',\n",
    "              }\n",
    "\n",
    "color_grid = Grid(width=400,\n",
    "                 height=250,\n",
    "                 css_rules=css_rules,\n",
    "                 grid_data=colors,\n",
    "                 grid_options=gridOptions,\n",
    "                 sync_on_edit=True,\n",
    "                 sync_grid=True, #default\n",
    "                 )\n",
    "display(color_grid)\n"
   ]
  },
  {
   "cell_type": "markdown",
   "metadata": {},
   "source": [
    "You can use the `get_grid`, `get_selected_rows`, `get_selected_columns` (available only in rangeSelection mode) to get the data out of the grid even when deactivating the export mode."
   ]
  },
  {
   "cell_type": "code",
   "execution_count": 6,
   "metadata": {},
   "outputs": [],
   "source": [
    "color_grid.get_grid()\n",
    "color_grid.get_selected_rows()\n"
   ]
  },
  {
   "cell_type": "code",
   "execution_count": 10,
   "metadata": {
    "scrolled": true
   },
   "outputs": [
    {
     "data": {
      "text/html": [
       "<div>\n",
       "<style scoped>\n",
       "    .dataframe tbody tr th:only-of-type {\n",
       "        vertical-align: middle;\n",
       "    }\n",
       "\n",
       "    .dataframe tbody tr th {\n",
       "        vertical-align: top;\n",
       "    }\n",
       "\n",
       "    .dataframe thead th {\n",
       "        text-align: right;\n",
       "    }\n",
       "</style>\n",
       "<table border=\"1\" class=\"dataframe\">\n",
       "  <thead>\n",
       "    <tr style=\"text-align: right;\">\n",
       "      <th></th>\n",
       "      <th>color</th>\n",
       "      <th>value</th>\n",
       "    </tr>\n",
       "    <tr>\n",
       "      <th>Index</th>\n",
       "      <th></th>\n",
       "      <th></th>\n",
       "    </tr>\n",
       "  </thead>\n",
       "  <tbody>\n",
       "    <tr>\n",
       "      <th>0</th>\n",
       "      <td>aliceblue</td>\n",
       "      <td>#f0f8ff</td>\n",
       "    </tr>\n",
       "    <tr>\n",
       "      <th>1</th>\n",
       "      <td>antiquewhite</td>\n",
       "      <td>#faebd7</td>\n",
       "    </tr>\n",
       "    <tr>\n",
       "      <th>2</th>\n",
       "      <td>aqua</td>\n",
       "      <td>#00ffff</td>\n",
       "    </tr>\n",
       "    <tr>\n",
       "      <th>3</th>\n",
       "      <td>aquamarine</td>\n",
       "      <td>#7fffd4</td>\n",
       "    </tr>\n",
       "    <tr>\n",
       "      <th>4</th>\n",
       "      <td>azure</td>\n",
       "      <td>#f0ffff</td>\n",
       "    </tr>\n",
       "    <tr>\n",
       "      <th>...</th>\n",
       "      <td>...</td>\n",
       "      <td>...</td>\n",
       "    </tr>\n",
       "    <tr>\n",
       "      <th>143</th>\n",
       "      <td>wheat</td>\n",
       "      <td>#f5deb3</td>\n",
       "    </tr>\n",
       "    <tr>\n",
       "      <th>144</th>\n",
       "      <td>white</td>\n",
       "      <td>#ffffff</td>\n",
       "    </tr>\n",
       "    <tr>\n",
       "      <th>145</th>\n",
       "      <td>whitesmoke</td>\n",
       "      <td>#f5f5f5</td>\n",
       "    </tr>\n",
       "    <tr>\n",
       "      <th>146</th>\n",
       "      <td>yellow</td>\n",
       "      <td>#ffff00</td>\n",
       "    </tr>\n",
       "    <tr>\n",
       "      <th>147</th>\n",
       "      <td>yellowgreen</td>\n",
       "      <td>#9acd32</td>\n",
       "    </tr>\n",
       "  </tbody>\n",
       "</table>\n",
       "<p>148 rows × 2 columns</p>\n",
       "</div>"
      ],
      "text/plain": [
       "              color    value\n",
       "Index                       \n",
       "0         aliceblue  #f0f8ff\n",
       "1      antiquewhite  #faebd7\n",
       "2              aqua  #00ffff\n",
       "3        aquamarine  #7fffd4\n",
       "4             azure  #f0ffff\n",
       "...             ...      ...\n",
       "143           wheat  #f5deb3\n",
       "144           white  #ffffff\n",
       "145      whitesmoke  #f5f5f5\n",
       "146          yellow  #ffff00\n",
       "147     yellowgreen  #9acd32\n",
       "\n",
       "[148 rows x 2 columns]"
      ]
     },
     "execution_count": 10,
     "metadata": {},
     "output_type": "execute_result"
    }
   ],
   "source": [
    "color_grid.grid_data_out.get('grid')"
   ]
  },
  {
   "cell_type": "markdown",
   "metadata": {},
   "source": [
    "If you set `sync_grid=True` (default) then the grid data is automatically synced with `grid_data_out['grid']` as a dataframe."
   ]
  },
  {
   "cell_type": "code",
   "execution_count": 11,
   "metadata": {
    "scrolled": true
   },
   "outputs": [
    {
     "data": {
      "text/html": [
       "<div>\n",
       "<style scoped>\n",
       "    .dataframe tbody tr th:only-of-type {\n",
       "        vertical-align: middle;\n",
       "    }\n",
       "\n",
       "    .dataframe tbody tr th {\n",
       "        vertical-align: top;\n",
       "    }\n",
       "\n",
       "    .dataframe thead th {\n",
       "        text-align: right;\n",
       "    }\n",
       "</style>\n",
       "<table border=\"1\" class=\"dataframe\">\n",
       "  <thead>\n",
       "    <tr style=\"text-align: right;\">\n",
       "      <th></th>\n",
       "      <th>color</th>\n",
       "      <th>value</th>\n",
       "    </tr>\n",
       "    <tr>\n",
       "      <th>Index</th>\n",
       "      <th></th>\n",
       "      <th></th>\n",
       "    </tr>\n",
       "  </thead>\n",
       "  <tbody>\n",
       "    <tr>\n",
       "      <th>0</th>\n",
       "      <td>aliceblue</td>\n",
       "      <td>#f0f8ff</td>\n",
       "    </tr>\n",
       "    <tr>\n",
       "      <th>1</th>\n",
       "      <td>antiquewhite</td>\n",
       "      <td>#faebd7</td>\n",
       "    </tr>\n",
       "    <tr>\n",
       "      <th>2</th>\n",
       "      <td>aqua</td>\n",
       "      <td>#00ffff</td>\n",
       "    </tr>\n",
       "    <tr>\n",
       "      <th>3</th>\n",
       "      <td>aquamarine</td>\n",
       "      <td>#7fffd4</td>\n",
       "    </tr>\n",
       "    <tr>\n",
       "      <th>4</th>\n",
       "      <td>azure</td>\n",
       "      <td>#f0ffff</td>\n",
       "    </tr>\n",
       "    <tr>\n",
       "      <th>...</th>\n",
       "      <td>...</td>\n",
       "      <td>...</td>\n",
       "    </tr>\n",
       "    <tr>\n",
       "      <th>143</th>\n",
       "      <td>wheat</td>\n",
       "      <td>#f5deb3</td>\n",
       "    </tr>\n",
       "    <tr>\n",
       "      <th>144</th>\n",
       "      <td>white</td>\n",
       "      <td>#ffffff</td>\n",
       "    </tr>\n",
       "    <tr>\n",
       "      <th>145</th>\n",
       "      <td>whitesmoke</td>\n",
       "      <td>#f5f5f5</td>\n",
       "    </tr>\n",
       "    <tr>\n",
       "      <th>146</th>\n",
       "      <td>yellow</td>\n",
       "      <td>#ffff00</td>\n",
       "    </tr>\n",
       "    <tr>\n",
       "      <th>147</th>\n",
       "      <td>yellowgreen</td>\n",
       "      <td>#9acd32</td>\n",
       "    </tr>\n",
       "  </tbody>\n",
       "</table>\n",
       "<p>148 rows × 2 columns</p>\n",
       "</div>"
      ],
      "text/plain": [
       "              color    value\n",
       "Index                       \n",
       "0         aliceblue  #f0f8ff\n",
       "1      antiquewhite  #faebd7\n",
       "2              aqua  #00ffff\n",
       "3        aquamarine  #7fffd4\n",
       "4             azure  #f0ffff\n",
       "...             ...      ...\n",
       "143           wheat  #f5deb3\n",
       "144           white  #ffffff\n",
       "145      whitesmoke  #f5f5f5\n",
       "146          yellow  #ffff00\n",
       "147     yellowgreen  #9acd32\n",
       "\n",
       "[148 rows x 2 columns]"
      ]
     },
     "execution_count": 11,
     "metadata": {},
     "output_type": "execute_result"
    }
   ],
   "source": [
    "color_grid.grid_data_out.get('grid')"
   ]
  },
  {
   "cell_type": "markdown",
   "metadata": {},
   "source": [
    "## Updating Data"
   ]
  },
  {
   "cell_type": "code",
   "execution_count": 12,
   "metadata": {},
   "outputs": [
    {
     "data": {
      "application/vnd.jupyter.widget-view+json": {
       "model_id": "53860a430608483183d5729aeefa5a6a",
       "version_major": 2,
       "version_minor": 0
      },
      "text/plain": [
       "Grid(columns_fit='size_to_fit', compress_data=True, css_rules_down=['.color-box{float: left;width: 10px;height…"
      ]
     },
     "metadata": {},
     "output_type": "display_data"
    }
   ],
   "source": [
    "gridOptions = {'columnDefs':columnDefs,\n",
    "               'enableFilter':'true',\n",
    "               'enableColumnResize':'true',\n",
    "               'enableSorting':'true',\n",
    "               'rowSelection':'multiple',\n",
    "              }\n",
    "\n",
    "color_grid2 = Grid(width=500,\n",
    "                 height=250,\n",
    "                 css_rules=css_rules,\n",
    "                 quick_filter=True,\n",
    "                 show_toggle_edit=True,\n",
    "                 grid_data=colors_ref,\n",
    "                 grid_options=gridOptions)\n",
    "color_grid2"
   ]
  },
  {
   "cell_type": "code",
   "execution_count": 13,
   "metadata": {},
   "outputs": [],
   "source": [
    "colors = colors_ref[:]\n",
    "colors.append({'color':'jupyterorange', 'value':'#f37626'})"
   ]
  },
  {
   "cell_type": "code",
   "execution_count": 14,
   "metadata": {},
   "outputs": [],
   "source": [
    "color_grid2.update_grid_data(copy(colors)) # New data set corresponding to the good columns"
   ]
  },
  {
   "cell_type": "code",
   "execution_count": 15,
   "metadata": {},
   "outputs": [],
   "source": [
    "color_grid2.delete_selected_rows()"
   ]
  },
  {
   "cell_type": "code",
   "execution_count": 16,
   "metadata": {},
   "outputs": [
    {
     "data": {
      "text/html": [
       "<div>\n",
       "<style scoped>\n",
       "    .dataframe tbody tr th:only-of-type {\n",
       "        vertical-align: middle;\n",
       "    }\n",
       "\n",
       "    .dataframe tbody tr th {\n",
       "        vertical-align: top;\n",
       "    }\n",
       "\n",
       "    .dataframe thead th {\n",
       "        text-align: right;\n",
       "    }\n",
       "</style>\n",
       "<table border=\"1\" class=\"dataframe\">\n",
       "  <thead>\n",
       "    <tr style=\"text-align: right;\">\n",
       "      <th></th>\n",
       "      <th>color</th>\n",
       "      <th>value</th>\n",
       "    </tr>\n",
       "    <tr>\n",
       "      <th>Index</th>\n",
       "      <th></th>\n",
       "      <th></th>\n",
       "    </tr>\n",
       "  </thead>\n",
       "  <tbody>\n",
       "    <tr>\n",
       "      <th>0</th>\n",
       "      <td>aliceblue</td>\n",
       "      <td>#f0f8ff</td>\n",
       "    </tr>\n",
       "    <tr>\n",
       "      <th>1</th>\n",
       "      <td>antiquewhite</td>\n",
       "      <td>#faebd7</td>\n",
       "    </tr>\n",
       "    <tr>\n",
       "      <th>2</th>\n",
       "      <td>aqua</td>\n",
       "      <td>#00ffff</td>\n",
       "    </tr>\n",
       "    <tr>\n",
       "      <th>3</th>\n",
       "      <td>aquamarine</td>\n",
       "      <td>#7fffd4</td>\n",
       "    </tr>\n",
       "    <tr>\n",
       "      <th>4</th>\n",
       "      <td>azure</td>\n",
       "      <td>#f0ffff</td>\n",
       "    </tr>\n",
       "    <tr>\n",
       "      <th>...</th>\n",
       "      <td>...</td>\n",
       "      <td>...</td>\n",
       "    </tr>\n",
       "    <tr>\n",
       "      <th>142</th>\n",
       "      <td>violet</td>\n",
       "      <td>#ee82ee</td>\n",
       "    </tr>\n",
       "    <tr>\n",
       "      <th>143</th>\n",
       "      <td>wheat</td>\n",
       "      <td>#f5deb3</td>\n",
       "    </tr>\n",
       "    <tr>\n",
       "      <th>144</th>\n",
       "      <td>white</td>\n",
       "      <td>#ffffff</td>\n",
       "    </tr>\n",
       "    <tr>\n",
       "      <th>145</th>\n",
       "      <td>whitesmoke</td>\n",
       "      <td>#f5f5f5</td>\n",
       "    </tr>\n",
       "    <tr>\n",
       "      <th>148</th>\n",
       "      <td>jupyterorange</td>\n",
       "      <td>#f37626</td>\n",
       "    </tr>\n",
       "  </tbody>\n",
       "</table>\n",
       "<p>147 rows × 2 columns</p>\n",
       "</div>"
      ],
      "text/plain": [
       "               color    value\n",
       "Index                        \n",
       "0          aliceblue  #f0f8ff\n",
       "1       antiquewhite  #faebd7\n",
       "2               aqua  #00ffff\n",
       "3         aquamarine  #7fffd4\n",
       "4              azure  #f0ffff\n",
       "...              ...      ...\n",
       "142           violet  #ee82ee\n",
       "143            wheat  #f5deb3\n",
       "144            white  #ffffff\n",
       "145       whitesmoke  #f5f5f5\n",
       "148    jupyterorange  #f37626\n",
       "\n",
       "[147 rows x 2 columns]"
      ]
     },
     "execution_count": 16,
     "metadata": {},
     "output_type": "execute_result"
    }
   ],
   "source": [
    "color_grid2.grid_data_out['grid']"
   ]
  }
 ],
 "metadata": {
  "kernelspec": {
   "display_name": "Python 3 (ipykernel)",
   "language": "python",
   "name": "python3"
  },
  "language_info": {
   "codemirror_mode": {
    "name": "ipython",
    "version": 3
   },
   "file_extension": ".py",
   "mimetype": "text/x-python",
   "name": "python",
   "nbconvert_exporter": "python",
   "pygments_lexer": "ipython3",
   "version": "3.9.7"
  }
 },
 "nbformat": 4,
 "nbformat_minor": 4
}
